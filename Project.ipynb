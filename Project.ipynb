{
 "cells": [
  {
   "cell_type": "code",
   "execution_count": 1,
   "id": "2077e21b",
   "metadata": {},
   "outputs": [],
   "source": [
    "import tensorflow as tf\n",
    "from tensorflow.keras.preprocessing.image import ImageDataGenerator\n",
    "from tensorflow.keras.layers import (\n",
    "    Input, Conv2D, MaxPooling2D, Dropout, Flatten, Dense, BatchNormalization,\n",
    "    GlobalAveragePooling2D, Reshape, multiply, Add, Activation,concatenate,ReLU,\n",
    "    DepthwiseConv2D, SeparableConv2D  # Import DepthwiseConv2D here\n",
    ")\n",
    "from tensorflow.keras.models import Model\n",
    "from tensorflow.keras.optimizers import Adam\n",
    "from tensorflow.keras.utils import to_categorical\n",
    "from tensorflow.keras import backend as K\n",
    "from tensorflow.keras.callbacks import TensorBoard\n",
    "import datetime\n",
    "import tensorflow as tf\n",
    "from tensorflow.keras.preprocessing.image import load_img, img_to_array\n",
    "import numpy as np"
   ]
  },
  {
   "cell_type": "code",
   "execution_count": 2,
   "id": "e20c5ace-39ca-40a2-bcd2-d5fee1bee292",
   "metadata": {},
   "outputs": [],
   "source": [
    "log_dir = \"logs/fit/\" + datetime.datetime.now().strftime(\"%Y%m%d-%H%M%S\")\n",
    "tensorboard_callback = TensorBoard(log_dir=log_dir, histogram_freq=1)"
   ]
  },
  {
   "cell_type": "code",
   "execution_count": 3,
   "id": "847f211b",
   "metadata": {},
   "outputs": [],
   "source": [
    "dataset_path = \"D:\\\\download\\\\JPEGImages (2)\\\\aaa\"\n",
    "num_classes=20"
   ]
  },
  {
   "cell_type": "code",
   "execution_count": 4,
   "id": "bc877de2-7627-47e2-b7d1-c99f2d04ffe3",
   "metadata": {},
   "outputs": [
    {
     "name": "stdout",
     "output_type": "stream",
     "text": [
      "Found 11999 images belonging to 20 classes.\n",
      "Found 7998 images belonging to 20 classes.\n"
     ]
    }
   ],
   "source": [
    "train_datagen = ImageDataGenerator(\n",
    "    rescale=1./255,\n",
    "    shear_range=0.2,\n",
    "    zoom_range=0.2,\n",
    "    horizontal_flip=True,\n",
    "    validation_split=0.4) # 30% for validation\n",
    "\n",
    "train_generator = train_datagen.flow_from_directory(\n",
    "    dataset_path,\n",
    "    target_size=(64, 64),\n",
    "    batch_size=32,\n",
    "    class_mode='categorical',\n",
    "    subset='training')\n",
    "\n",
    "validation_generator = train_datagen.flow_from_directory(\n",
    "    dataset_path,\n",
    "    target_size=(64, 64),\n",
    "    batch_size=32,\n",
    "    class_mode='categorical',\n",
    "    subset='validation')"
   ]
  },
  {
   "cell_type": "code",
   "execution_count": 5,
   "id": "484f2d87-f81a-4617-aa9e-e53742049e7b",
   "metadata": {},
   "outputs": [],
   "source": [
    "def squeeze_excite_block(input, ratio=16):\n",
    "    ''' Create a squeeze and excitation block\n",
    "    Args:\n",
    "        input: input tensor\n",
    "        ratio: reduction ratio\n",
    "    Returns: a keras tensor\n",
    "    '''\n",
    "    init = input\n",
    "    channel_axis = -1 if K.image_data_format() == 'channels_last' else 1\n",
    "    filters = init.shape[channel_axis]\n",
    "    se_shape = (1, 1, filters)\n",
    "\n",
    "    se = GlobalAveragePooling2D()(init)\n",
    "    se = Reshape(se_shape)(se)\n",
    "    se = Dense(filters // ratio, activation='relu')(se)\n",
    "    se = Dense(filters, activation='sigmoid')(se)\n",
    "\n",
    "    x = multiply([init, se])\n",
    "    return x\n"
   ]
  },
  {
   "cell_type": "code",
   "execution_count": 6,
   "id": "84637488-154a-455e-99cb-c4473830ab0c",
   "metadata": {},
   "outputs": [],
   "source": [
    "def residual_block(x, filters, kernel_size=3, stride=1):\n",
    "    shortcut = x\n",
    "    x = Conv2D(filters, kernel_size, padding='same', strides=stride)(x)\n",
    "    x = BatchNormalization()(x)\n",
    "    x = Activation('relu')(x)\n",
    "    \n",
    "    x = Conv2D(filters, kernel_size, padding='same')(x)\n",
    "    x = BatchNormalization()(x)\n",
    "    \n",
    "    if stride != 1 or shortcut.shape[-1] != filters:\n",
    "        shortcut = Conv2D(filters, (1, 1), strides=stride, padding='same')(shortcut)\n",
    "        shortcut = BatchNormalization()(shortcut)\n",
    "    \n",
    "    x = Add()([x, shortcut])\n",
    "    x = Activation('relu')(x)\n",
    "    return x\n"
   ]
  },
  {
   "cell_type": "code",
   "execution_count": 7,
   "id": "f22ab947-d64a-4e3b-95fd-afb1729aab27",
   "metadata": {},
   "outputs": [],
   "source": [
    "# Now let's add the SE block to your model architecture\n",
    "input_layer = Input(shape=(64, 64, 3))\n",
    "\n",
    "# Convolutional layers with SE blocks\n",
    "x = Conv2D(32, (3, 3), activation='relu')(input_layer)\n",
    "x = DepthwiseConv2D((3, 3), activation='relu', padding='same')(x)\n",
    "x = Conv2D(32, (1, 1), activation='relu', padding='same')(x)  # pointwise convolution\n",
    "x = MaxPooling2D(pool_size=(2, 2))(x)\n",
    "x = BatchNormalization()(x)\n",
    "x = squeeze_excite_block(x)  # SE block\n",
    "\n",
    "\n",
    "x = Conv2D(64, (3, 3), activation='relu')(x)\n",
    "x = DepthwiseConv2D((3, 3), activation='relu', padding='same')(x)\n",
    "x = Conv2D(64, (1, 1), activation='relu', padding='same')(x)  # pointwise convolution\n",
    "x = MaxPooling2D(pool_size=(2, 2))(x)\n",
    "x = BatchNormalization()(x)\n",
    "x = squeeze_excite_block(x)  # SE block\n",
    "\n",
    "\n",
    "x = Conv2D(128, (3, 3), activation='relu')(x)\n",
    "x = DepthwiseConv2D((3, 3), activation='relu', padding='same')(x)\n",
    "x = Conv2D(128, (1, 1), activation='relu', padding='same')(x)  # pointwise convolution\n",
    "x = MaxPooling2D(pool_size=(2, 2))(x)\n",
    "x = BatchNormalization()(x)\n",
    "x = squeeze_excite_block(x)  # SE block\n",
    "\n",
    "x = Conv2D(256, (3, 3), activation='relu')(x)\n",
    "x = DepthwiseConv2D((3, 3), activation='relu', padding='same')(x)\n",
    "x = Conv2D(256, (1, 1), activation='relu', padding='same')(x)  # pointwise convolution\n",
    "x = MaxPooling2D(pool_size=(2, 2))(x)\n",
    "x = BatchNormalization()(x)\n",
    "x = squeeze_excite_block(x)  # SE block\n",
    "\n",
    "# Flatten and Dense layers\n",
    "x = Flatten()(x)\n",
    "x = Dense(64, activation='relu')(x)\n",
    "x = Dropout(0.5)(x)\n",
    "output_layer = Dense(num_classes, activation='softmax')(x)   # Update the number of classes\n",
    "\n",
    "# Create model\n",
    "model = Model(inputs=input_layer, outputs=output_layer)\n"
   ]
  },
  {
   "cell_type": "code",
   "execution_count": 8,
   "id": "9686aff7-6246-4e97-87df-504394d788a8",
   "metadata": {},
   "outputs": [],
   "source": [
    "model.compile(optimizer=Adam(learning_rate=0.0001), loss='categorical_crossentropy', metrics=['accuracy'])\n"
   ]
  },
  {
   "cell_type": "code",
   "execution_count": 9,
   "id": "e34bd854-fff3-4852-aa76-3e236cb90cff",
   "metadata": {},
   "outputs": [
    {
     "name": "stdout",
     "output_type": "stream",
     "text": [
      "Epoch 1/50\n",
      "374/374 [==============================] - 317s 832ms/step - loss: 2.9888 - accuracy: 0.0604 - val_loss: 2.9959 - val_accuracy: 0.0502\n",
      "Epoch 2/50\n",
      "374/374 [==============================] - 177s 473ms/step - loss: 2.9491 - accuracy: 0.0882 - val_loss: 2.9518 - val_accuracy: 0.0921\n",
      "Epoch 3/50\n",
      "374/374 [==============================] - 178s 475ms/step - loss: 2.9169 - accuracy: 0.0998 - val_loss: 2.8960 - val_accuracy: 0.1172\n",
      "Epoch 4/50\n",
      "374/374 [==============================] - 177s 473ms/step - loss: 2.8860 - accuracy: 0.1128 - val_loss: 2.8585 - val_accuracy: 0.1266\n",
      "Epoch 5/50\n",
      "374/374 [==============================] - 177s 473ms/step - loss: 2.8634 - accuracy: 0.1197 - val_loss: 2.8461 - val_accuracy: 0.1232\n",
      "Epoch 6/50\n",
      "374/374 [==============================] - 177s 472ms/step - loss: 2.8364 - accuracy: 0.1335 - val_loss: 2.8013 - val_accuracy: 0.1486\n",
      "Epoch 7/50\n",
      "374/374 [==============================] - 177s 473ms/step - loss: 2.8035 - accuracy: 0.1447 - val_loss: 2.7873 - val_accuracy: 0.1460\n",
      "Epoch 8/50\n",
      "374/374 [==============================] - 177s 473ms/step - loss: 2.7695 - accuracy: 0.1541 - val_loss: 2.7585 - val_accuracy: 0.1519\n",
      "Epoch 9/50\n",
      "374/374 [==============================] - 177s 474ms/step - loss: 2.7429 - accuracy: 0.1614 - val_loss: 2.7129 - val_accuracy: 0.1727\n",
      "Epoch 10/50\n",
      "374/374 [==============================] - 177s 474ms/step - loss: 2.7092 - accuracy: 0.1707 - val_loss: 2.7902 - val_accuracy: 0.1393\n",
      "Epoch 11/50\n",
      "374/374 [==============================] - 177s 473ms/step - loss: 2.6777 - accuracy: 0.1802 - val_loss: 2.6794 - val_accuracy: 0.1791\n",
      "Epoch 12/50\n",
      "374/374 [==============================] - 177s 475ms/step - loss: 2.6525 - accuracy: 0.1917 - val_loss: 2.6389 - val_accuracy: 0.1903\n",
      "Epoch 13/50\n",
      "374/374 [==============================] - 177s 473ms/step - loss: 2.6231 - accuracy: 0.1924 - val_loss: 2.6283 - val_accuracy: 0.1983\n",
      "Epoch 14/50\n",
      "374/374 [==============================] - 177s 473ms/step - loss: 2.5817 - accuracy: 0.2108 - val_loss: 2.6167 - val_accuracy: 0.2004\n",
      "Epoch 15/50\n",
      "374/374 [==============================] - 177s 472ms/step - loss: 2.5617 - accuracy: 0.2178 - val_loss: 2.6227 - val_accuracy: 0.1918\n",
      "Epoch 16/50\n",
      "374/374 [==============================] - 177s 474ms/step - loss: 2.5357 - accuracy: 0.2222 - val_loss: 2.5361 - val_accuracy: 0.2246\n",
      "Epoch 17/50\n",
      "374/374 [==============================] - 178s 476ms/step - loss: 2.5033 - accuracy: 0.2342 - val_loss: 2.5352 - val_accuracy: 0.2236\n",
      "Epoch 18/50\n",
      "374/374 [==============================] - 177s 473ms/step - loss: 2.4840 - accuracy: 0.2397 - val_loss: 2.5235 - val_accuracy: 0.2283\n",
      "Epoch 19/50\n",
      "374/374 [==============================] - 177s 474ms/step - loss: 2.4480 - accuracy: 0.2523 - val_loss: 2.5065 - val_accuracy: 0.2327\n",
      "Epoch 20/50\n",
      "374/374 [==============================] - 177s 473ms/step - loss: 2.4223 - accuracy: 0.2548 - val_loss: 2.4751 - val_accuracy: 0.2452\n",
      "Epoch 21/50\n",
      "374/374 [==============================] - 177s 474ms/step - loss: 2.3924 - accuracy: 0.2685 - val_loss: 2.4751 - val_accuracy: 0.2462\n",
      "Epoch 22/50\n",
      "374/374 [==============================] - 178s 476ms/step - loss: 2.3792 - accuracy: 0.2680 - val_loss: 2.4926 - val_accuracy: 0.2371\n",
      "Epoch 23/50\n",
      "374/374 [==============================] - 178s 475ms/step - loss: 2.3465 - accuracy: 0.2778 - val_loss: 2.4471 - val_accuracy: 0.2525\n",
      "Epoch 24/50\n",
      "374/374 [==============================] - 177s 474ms/step - loss: 2.3256 - accuracy: 0.2845 - val_loss: 2.4452 - val_accuracy: 0.2533\n",
      "Epoch 25/50\n",
      "374/374 [==============================] - 178s 475ms/step - loss: 2.3016 - accuracy: 0.2969 - val_loss: 2.4434 - val_accuracy: 0.2533\n",
      "Epoch 26/50\n",
      "374/374 [==============================] - 177s 474ms/step - loss: 2.2782 - accuracy: 0.2991 - val_loss: 2.4188 - val_accuracy: 0.2653\n",
      "Epoch 27/50\n",
      "374/374 [==============================] - 178s 475ms/step - loss: 2.2449 - accuracy: 0.3059 - val_loss: 2.4253 - val_accuracy: 0.2622\n",
      "Epoch 28/50\n",
      "374/374 [==============================] - 176s 472ms/step - loss: 2.2217 - accuracy: 0.3185 - val_loss: 2.3915 - val_accuracy: 0.2652\n",
      "Epoch 29/50\n",
      "374/374 [==============================] - 177s 473ms/step - loss: 2.2152 - accuracy: 0.3165 - val_loss: 2.3814 - val_accuracy: 0.2759\n",
      "Epoch 30/50\n",
      "374/374 [==============================] - 177s 474ms/step - loss: 2.1865 - accuracy: 0.3263 - val_loss: 2.3907 - val_accuracy: 0.2696\n",
      "Epoch 31/50\n",
      "374/374 [==============================] - 177s 473ms/step - loss: 2.1686 - accuracy: 0.3369 - val_loss: 2.3900 - val_accuracy: 0.2705\n",
      "Epoch 32/50\n",
      "374/374 [==============================] - 177s 474ms/step - loss: 2.1425 - accuracy: 0.3428 - val_loss: 2.4318 - val_accuracy: 0.2657\n",
      "Epoch 33/50\n",
      "374/374 [==============================] - 177s 473ms/step - loss: 2.1217 - accuracy: 0.3457 - val_loss: 2.3687 - val_accuracy: 0.2785\n",
      "Epoch 34/50\n",
      "374/374 [==============================] - 177s 474ms/step - loss: 2.0987 - accuracy: 0.3514 - val_loss: 2.3507 - val_accuracy: 0.2927\n",
      "Epoch 35/50\n",
      "374/374 [==============================] - 177s 474ms/step - loss: 2.0675 - accuracy: 0.3617 - val_loss: 2.3328 - val_accuracy: 0.2946\n",
      "Epoch 36/50\n",
      "374/374 [==============================] - 177s 473ms/step - loss: 2.0423 - accuracy: 0.3744 - val_loss: 2.3607 - val_accuracy: 0.2890\n",
      "Epoch 37/50\n",
      "374/374 [==============================] - 176s 471ms/step - loss: 2.0343 - accuracy: 0.3704 - val_loss: 2.3850 - val_accuracy: 0.2824\n",
      "Epoch 38/50\n",
      "374/374 [==============================] - 177s 472ms/step - loss: 2.0101 - accuracy: 0.3770 - val_loss: 2.3172 - val_accuracy: 0.3015\n",
      "Epoch 39/50\n",
      "374/374 [==============================] - 177s 475ms/step - loss: 1.9918 - accuracy: 0.3847 - val_loss: 2.3465 - val_accuracy: 0.2919\n",
      "Epoch 40/50\n",
      "374/374 [==============================] - 177s 472ms/step - loss: 1.9846 - accuracy: 0.3842 - val_loss: 2.3756 - val_accuracy: 0.2814\n",
      "Epoch 41/50\n",
      "374/374 [==============================] - 222s 593ms/step - loss: 1.9535 - accuracy: 0.3952 - val_loss: 2.3068 - val_accuracy: 0.3117\n",
      "Epoch 42/50\n",
      "374/374 [==============================] - 221s 592ms/step - loss: 1.9311 - accuracy: 0.4044 - val_loss: 2.3186 - val_accuracy: 0.3012\n",
      "Epoch 43/50\n",
      "374/374 [==============================] - 177s 473ms/step - loss: 1.9204 - accuracy: 0.3990 - val_loss: 2.3024 - val_accuracy: 0.3105\n",
      "Epoch 44/50\n",
      "374/374 [==============================] - 177s 473ms/step - loss: 1.9056 - accuracy: 0.4074 - val_loss: 2.3281 - val_accuracy: 0.3038\n",
      "Epoch 45/50\n",
      "374/374 [==============================] - 177s 472ms/step - loss: 1.8691 - accuracy: 0.4148 - val_loss: 2.3220 - val_accuracy: 0.3121\n",
      "Epoch 46/50\n",
      "374/374 [==============================] - 177s 473ms/step - loss: 1.8592 - accuracy: 0.4219 - val_loss: 2.3069 - val_accuracy: 0.3101\n",
      "Epoch 47/50\n",
      "374/374 [==============================] - 177s 474ms/step - loss: 1.8343 - accuracy: 0.4291 - val_loss: 2.3190 - val_accuracy: 0.3097\n",
      "Epoch 48/50\n",
      "374/374 [==============================] - 177s 474ms/step - loss: 1.8246 - accuracy: 0.4313 - val_loss: 2.3782 - val_accuracy: 0.2951\n",
      "Epoch 49/50\n",
      "374/374 [==============================] - 177s 474ms/step - loss: 1.7909 - accuracy: 0.4405 - val_loss: 2.3577 - val_accuracy: 0.3010\n",
      "Epoch 50/50\n",
      "374/374 [==============================] - 177s 474ms/step - loss: 1.7904 - accuracy: 0.4390 - val_loss: 2.3125 - val_accuracy: 0.3105\n"
     ]
    }
   ],
   "source": [
    "history = model.fit(\n",
    "    train_generator,\n",
    "    steps_per_epoch=train_generator.samples // train_generator.batch_size,\n",
    "    validation_data=validation_generator,\n",
    "    validation_steps=validation_generator.samples // validation_generator.batch_size,\n",
    "    epochs=50,  # You can change the number of epochs\n",
    "    callbacks=[tensorboard_callback])  # Add the callback here\n"
   ]
  },
  {
   "cell_type": "code",
   "execution_count": 10,
   "id": "c56d8165-7e71-468e-bc9d-b9a202787ed8",
   "metadata": {},
   "outputs": [
    {
     "data": {
      "image/png": "[encoded data removed]",
      "text/plain": [
       "<Figure size 1200x500 with 2 Axes>"
      ]
     },
     "metadata": {},
     "output_type": "display_data"
    }
   ],
   "source": [
    "# 保存 history 对象的数据以便之后分析\n",
    "train_loss = history.history['loss']\n",
    "train_accuracy = history.history['accuracy']\n",
    "val_loss = history.history['val_loss']\n",
    "val_accuracy = history.history['val_accuracy']\n",
    "\n",
    "# 可选：绘制训练和验证损失/准确度\n",
    "import matplotlib.pyplot as plt\n",
    "\n",
    "epochs = range(1, len(train_loss) + 1)\n",
    "\n",
    "plt.figure(figsize=(12, 5))\n",
    "plt.subplot(1, 2, 1)\n",
    "plt.plot(epochs, train_loss, 'r', label='Training loss')\n",
    "plt.plot(epochs, val_loss, 'b', label='Validation loss')\n",
    "plt.title('Training and Validation Loss')\n",
    "plt.legend()\n",
    "\n",
    "plt.subplot(1, 2, 2)\n",
    "plt.plot(epochs, train_accuracy, 'r', label='Training accuracy')\n",
    "plt.plot(epochs, val_accuracy, 'b', label='Validation accuracy')\n",
    "plt.title('Training and Validation Accuracy')\n",
    "plt.legend()\n",
    "\n",
    "plt.show()"
   ]
  },
  {
   "cell_type": "code",
   "execution_count": 11,
   "id": "013054de-f835-465d-95b9-b6e07ddbb4e5",
   "metadata": {},
   "outputs": [
    {
     "data": {
      "text/html": [
       "\n",
       "      <iframe id=\"tensorboard-frame-d3e3750b69ee7b2\" width=\"100%\" height=\"800\" frameborder=\"0\">\n",
       "      </iframe>\n",
       "      <script>\n",
       "        (function() {\n",
       "          const frame = document.getElementById(\"tensorboard-frame-d3e3750b69ee7b2\");\n",
       "          const url = new URL(\"/\", window.location);\n",
       "          const port = 6006;\n",
       "          if (port) {\n",
       "            url.port = port;\n",
       "          }\n",
       "          frame.src = url;\n",
       "        })();\n",
       "      </script>\n",
       "    "
      ],
      "text/plain": [
       "<IPython.core.display.HTML object>"
      ]
     },
     "metadata": {},
     "output_type": "display_data"
    }
   ],
   "source": [
    "%load_ext tensorboard\n",
    "\n",
    "%tensorboard --logdir logs/fit\n"
   ]
  },
  {
   "cell_type": "code",
   "execution_count": 14,
   "id": "66346d3e-352a-4279-801a-153ce116f928",
   "metadata": {},
   "outputs": [],
   "source": [
    "model.save('vehicle_logo_dscnn_model.h5')\n",
    "model_path = 'vehicle_logo_dscnn_model.h5'"
   ]
  },
  {
   "cell_type": "code",
   "execution_count": 15,
   "id": "27b0bf4b-0c12-4de1-8dc3-e58050b25377",
   "metadata": {},
   "outputs": [],
   "source": [
    "from tensorflow.keras.preprocessing import image\n",
    "# Load the trained model\n",
    "model = tf.keras.models.load_model(model_path)\n",
    "\n",
    "def predict_vehicle_logo(image_path, model):\n",
    "    # Load and preprocess the image\n",
    "    img = image.load_img(image_path, target_size=(64, 64))\n",
    "    img_array = image.img_to_array(img)\n",
    "    img_array = np.expand_dims(img_array, axis=0)  # 为批处理添加一个维度\n",
    "    img_array /= 255.0  # 与训练时相同的缩放\n",
    "\n",
    "    # 预测\n",
    "    predictions = model.predict(img_array)\n",
    "    class_index = np.argmax(predictions, axis=1)[0]\n",
    "\n",
    "    # 类别标签\n",
    "    labels = ['AUDI', 'BAOJUN', 'Benz', 'BMW', 'Buick', 'BYD', 'Cadillac', 'Changan', 'CHERY', 'Chevrolet', \n",
    "              'Citroen', 'Coupe', 'FAWHaima', 'Ford', 'Geely', 'GMC', 'HAVAL', 'HONDA', 'Hyundai', 'INFINITI', \n",
    "              'JEEP', 'KIA', 'Lexus', 'Lincoln', 'Mazda', 'MG', 'Mitsubishi', 'Nissan', 'PEUGEOT', 'Porsche', \n",
    "              'Qoros', 'RANGEROVER', 'Renault', 'ROEWE', 'Saab', 'SKODA', 'SoueastMotor', 'Subaru', 'SUZUKI', \n",
    "              'TOYOTA', 'TRUMCHI', 'Venucia', 'Volkswagen', 'VOLVO', 'WuLing']\n",
    "\n",
    "    predicted_label = labels[class_index]\n",
    "    return predicted_label\n",
    "\n"
   ]
  },
  {
   "cell_type": "code",
   "execution_count": 17,
   "id": "2ef9a567-ae3f-4341-ac54-17767db7a446",
   "metadata": {},
   "outputs": [
    {
     "name": "stdout",
     "output_type": "stream",
     "text": [
      "1/1 [==============================] - 0s 26ms/step\n",
      "The image at D:\\download\\JPEGImages (2)\\test\\GMC\\000350.jpg is predicted to be a Chevrolet.\n"
     ]
    }
   ],
   "source": [
    "# Assuming your model's filename is 'vehicle_logo_dscnn_model.h5'\n",
    "\n",
    "image_path = 'D:\\\\download\\\\JPEGImages (2)\\\\test\\\\GMC\\\\000350.jpg'\n",
    "# Run the prediction function\n",
    "result = predict_vehicle_logo(image_path, model)\n",
    "print(f\"The image at {image_path} is predicted to be a {result}.\")"
   ]
  },
  {
   "cell_type": "code",
   "execution_count": 18,
   "id": "8804fed0-38bf-4594-a3aa-b7b59b39d332",
   "metadata": {},
   "outputs": [
    {
     "name": "stdout",
     "output_type": "stream",
     "text": [
      "1/1 [==============================] - 0s 28ms/step\n",
      "The image at D:\\download\\JPEGImages (2)\\test\\GMC\\000350.jpg is predicted to be a Geely.\n"
     ]
    }
   ],
   "source": [
    "image_path1 = 'D:\\\\download\\\\JPEGImages (2)\\\\test\\\\JEEP\\\\025632.jpg'\n",
    "# Run the prediction function\n",
    "result = predict_vehicle_logo(image_path1, model)\n",
    "print(f\"The image at {image_path} is predicted to be a {result}.\")"
   ]
  },
  {
   "cell_type": "code",
   "execution_count": 19,
   "id": "41108ed8-bbdd-4d38-b461-580f12c99332",
   "metadata": {},
   "outputs": [
    {
     "data": {
      "image/png": "[encoded data removed]",
      "text/plain": [
       "<Figure size 640x480 with 1 Axes>"
      ]
     },
     "metadata": {},
     "output_type": "display_data"
    }
   ],
   "source": [
    "import cv2\n",
    "import numpy as np\n",
    "import tensorflow as tf\n",
    "\n",
    "def make_gradcam_heatmap(img_array, model, last_conv_layer_name, pred_index=None):\n",
    "    # First, we create a model that maps the input image to the activations\n",
    "    # of the last conv layer as well as the output predictions\n",
    "    grad_model = tf.keras.models.Model(\n",
    "        [model.inputs], [model.get_layer(last_conv_layer_name).output, model.output]\n",
    "    )\n",
    "\n",
    "    # Then, we compute the gradient of the top predicted class for our input image\n",
    "    # with respect to the activations of the last conv layer\n",
    "    with tf.GradientTape() as tape:\n",
    "        last_conv_layer_output, preds = grad_model(img_array)\n",
    "        if pred_index is None:\n",
    "            pred_index = tf.argmax(preds[0])\n",
    "        class_channel = preds[:, pred_index]\n",
    "\n",
    "    # This is the gradient of the output neuron (top predicted or chosen)\n",
    "    # with regard to the output feature map of the last conv layer\n",
    "    grads = tape.gradient(class_channel, last_conv_layer_output)\n",
    "\n",
    "    # This is a vector where each entry is the mean intensity of the gradient\n",
    "    # over a specific feature map channel\n",
    "    pooled_grads = tf.reduce_mean(grads, axis=(0, 1, 2))\n",
    "\n",
    "    # We multiply each channel in the feature map array\n",
    "    # by \"how important this channel is\" with regard to the top predicted class\n",
    "    # then sum all the channels to obtain the heatmap class activation\n",
    "    last_conv_layer_output = last_conv_layer_output[0]\n",
    "    heatmap = last_conv_layer_output @ pooled_grads[..., tf.newaxis]\n",
    "    heatmap = tf.squeeze(heatmap)\n",
    "\n",
    "    # For visualization purpose, we will also normalize the heatmap between 0 & 1\n",
    "    heatmap = tf.maximum(heatmap, 0) / tf.math.reduce_max(heatmap)\n",
    "    return heatmap.numpy()\n",
    "\n",
    "def display_gradcam(img_path, heatmap, alpha=0.4):\n",
    "    # Load the original image\n",
    "    img = cv2.imread(img_path)\n",
    "    img = cv2.resize(img, (64, 64))\n",
    "\n",
    "    # Rescale heatmap to a range 0-255\n",
    "    heatmap = np.uint8(255 * heatmap)\n",
    "\n",
    "    # Use jet colormap to colorize heatmap\n",
    "    jet = cv2.applyColorMap(heatmap, cv2.COLORMAP_JET)\n",
    "\n",
    "    # Resize the heatmap to match the size of the image\n",
    "    jet = cv2.resize(jet, (img.shape[1], img.shape[0]))\n",
    "\n",
    "    # Create an image with RGB colorized heatmap\n",
    "    superimposed_img = jet * alpha + img\n",
    "\n",
    "    # Ensure the superimposed image is of type float32, then convert to [0,255] integer type\n",
    "    superimposed_img = np.clip(superimposed_img, 0, 255).astype(np.uint8)\n",
    "\n",
    "    # Convert color from BGR to RGB\n",
    "    superimposed_img = cv2.cvtColor(superimposed_img, cv2.COLOR_BGR2RGB)\n",
    "\n",
    "    # Display Image\n",
    "    plt.imshow(superimposed_img)\n",
    "    plt.show()\n",
    "\n",
    "\n",
    "\n",
    "# Use the function with an example\n",
    "last_conv_layer_name = \"conv2d_7\"  # You should set the name of the last convolutional layer of your model\n",
    "img_array = img_to_array(load_img(image_path, target_size=(64, 64)))  # Load your image\n",
    "img_array = np.expand_dims(img_array, axis=0)  # Make it a batch\n",
    "img_array /= 255.0  # Normalize\n",
    "\n",
    "# Generate the heatmap\n",
    "heatmap = make_gradcam_heatmap(img_array, model, last_conv_layer_name)\n",
    "\n",
    "# Display the heatmap\n",
    "display_gradcam(image_path, heatmap)\n"
   ]
  },
  {
   "cell_type": "code",
   "execution_count": null,
   "id": "e976e5ea-0212-4764-a10d-730b2964665a",
   "metadata": {},
   "outputs": [],
   "source": []
  },
  {
   "cell_type": "code",
   "execution_count": null,
   "id": "457ae699-2b1b-4e06-a71d-d190adaa5d13",
   "metadata": {},
   "outputs": [],
   "source": []
  },
  {
   "cell_type": "code",
   "execution_count": null,
   "id": "90d6dda6-c1c8-4a8b-a908-ea904ac8dfaf",
   "metadata": {},
   "outputs": [],
   "source": []
  },
  {
   "cell_type": "code",
   "execution_count": null,
   "id": "998148df-ef04-4ce2-90d4-cf828aa48923",
   "metadata": {},
   "outputs": [],
   "source": []
  }
 ],
 "metadata": {
  "kernelspec": {
   "display_name": "Python 3 (ipykernel)",
   "language": "python",
   "name": "python3"
  },
  "language_info": {
   "codemirror_mode": {
    "name": "ipython",
    "version": 3
   },
   "file_extension": ".py",
   "mimetype": "text/x-python",
   "name": "python",
   "nbconvert_exporter": "python",
   "pygments_lexer": "ipython3",
   "version": "3.10.11"
  }
 },
 "nbformat": 4,
 "nbformat_minor": 5
}
